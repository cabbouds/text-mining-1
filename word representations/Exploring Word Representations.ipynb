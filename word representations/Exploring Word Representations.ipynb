{
 "cells": [
  {
   "cell_type": "markdown",
   "metadata": {},
   "source": [
    "created on 11/25/15 (last week at clarapath; exploring word representations for ebay; bay is in taiwan)\n",
    "\n",
    "a word embedding (aka representation?) maps words to a high-dimensional vector (200-500 dimensions). each feature in this high dimensional vector corresponds to a particular concept. \n",
    "\n",
    "similarity between words can be determined by comparing their \"concept\" composition. \"bacon\" and \"eggs\" will be similar as they belong to the same concepts, which may include \"breakfast\", \"food\", etc.\n",
    "\n",
    "reference: colah.github.io/posts/2015-07-NLP-RNNs-Representations"
   ]
  },
  {
   "cell_type": "code",
   "execution_count": 210,
   "metadata": {
    "collapsed": false
   },
   "outputs": [],
   "source": [
    "import gensim\n",
    "import numpy as np\n",
    "import pandas as pd\n",
    "import matplotlib.pyplot as plt\n",
    "from sklearn.manifold import TSNE # works better than the tsne package\n",
    "\n",
    "% matplotlib inline"
   ]
  },
  {
   "cell_type": "markdown",
   "metadata": {},
   "source": [
    "# step 1: word embedding model\n",
    "\n",
    "should consider training model on a much larger corpus."
   ]
  },
  {
   "cell_type": "code",
   "execution_count": 211,
   "metadata": {
    "collapsed": false
   },
   "outputs": [],
   "source": [
    "# load pre-trained word2vec object - this was trained on bloomberg corpus at GA\n",
    "\n",
    "model = gensim.models.Word2Vec.load('w2v_classifier.pkl') "
   ]
  },
  {
   "cell_type": "code",
   "execution_count": 212,
   "metadata": {
    "collapsed": false
   },
   "outputs": [
    {
     "data": {
      "text/plain": [
       "array([ 0.01042863, -0.09082334, -0.35011554, -0.14478402, -0.71825773,\n",
       "       -0.25383466,  0.23865902,  0.13142689,  0.47341087, -0.17986837,\n",
       "       -0.0372021 ,  0.42531022, -0.13532187,  0.04366703,  0.21852472,\n",
       "        0.03462471,  0.31207776,  0.00829051,  0.308943  ,  0.25673884,\n",
       "       -0.06925283,  0.4682849 , -0.00961973,  0.03862087, -0.09179647,\n",
       "        0.04564424, -0.2339852 , -0.55836165,  0.09667019, -0.31847021,\n",
       "       -0.0355426 ,  0.0500903 ,  0.17197727, -0.16619124, -0.10991534,\n",
       "       -0.07830014,  0.15003049, -0.33407968,  0.32998291, -0.30584821,\n",
       "        0.26705334, -0.11892033,  0.05644705, -0.38063726, -0.33579496,\n",
       "       -0.36467284,  0.04336204, -0.4033238 ,  0.16085993, -0.46443275,\n",
       "       -0.19592211,  0.15941769,  0.24573968, -0.15621814, -0.0417763 ,\n",
       "       -0.01291056,  0.33073303, -0.00319579,  0.30878255, -0.09785306,\n",
       "       -0.04232512, -0.17990838, -0.06252955, -0.16155854, -0.44194794,\n",
       "       -0.25797784, -0.07597887,  0.34166408,  0.10581324,  0.00261059,\n",
       "        0.19216281, -0.25302857,  0.14443278, -0.01088367,  0.08264203,\n",
       "        0.62910968, -0.0187672 , -0.25569355, -0.18922764,  0.60367709,\n",
       "       -0.05552159, -0.01513158,  0.30472925, -0.19034643,  0.16826016,\n",
       "        0.21719901, -0.20895566, -0.25313389,  0.08095272,  0.32105619,\n",
       "       -0.13775398,  0.18984503, -0.40351191, -0.17032346, -0.14469333,\n",
       "       -0.00406809, -0.5218873 ,  0.21281293, -0.23911715, -0.09079002], dtype=float32)"
      ]
     },
     "execution_count": 212,
     "metadata": {},
     "output_type": "execute_result"
    }
   ],
   "source": [
    "# each word is represented by a 100D vector\n",
    "\n",
    "model['eggs']"
   ]
  },
  {
   "cell_type": "code",
   "execution_count": 213,
   "metadata": {
    "collapsed": false
   },
   "outputs": [
    {
     "data": {
      "text/plain": [
       "[(u'egg', 0.7384957075119019),\n",
       " (u'yolks', 0.7369005084037781),\n",
       " (u'whites', 0.6558560132980347),\n",
       " (u'buttermilk', 0.6364924907684326),\n",
       " (u'yolk', 0.6352832317352295),\n",
       " (u'Beat', 0.6335282325744629),\n",
       " (u'beaten', 0.6235525608062744),\n",
       " (u'Gradually', 0.617035984992981),\n",
       " (u'boiled', 0.6137025952339172),\n",
       " (u'frothy', 0.6109724044799805)]"
      ]
     },
     "execution_count": 213,
     "metadata": {},
     "output_type": "execute_result"
    }
   ],
   "source": [
    "# find the most similar words\n",
    "\n",
    "model.most_similar('eggs')"
   ]
  },
  {
   "cell_type": "markdown",
   "metadata": {},
   "source": [
    "# step 2: generate data"
   ]
  },
  {
   "cell_type": "code",
   "execution_count": 214,
   "metadata": {
    "collapsed": true
   },
   "outputs": [],
   "source": [
    "words_class0 = ['health', 'medical', 'provider', 'mental', 'fitness', 'physical', 'care',\n",
    "                'dental', 'patient', 'provider', 'premiums', 'safety', 'deadly', 'behavior',\n",
    "               'diseased', 'diagnoses', 'psychological', 'environmental']"
   ]
  },
  {
   "cell_type": "code",
   "execution_count": 215,
   "metadata": {
    "collapsed": true
   },
   "outputs": [],
   "source": [
    "words_class1 = ['eggs', 'peaches', 'fish', 'lemonade', 'buttermilk', 'steak', 'burger', \n",
    "               'salmon', 'pizza', 'cheese', 'meat', 'coffee', 'apple', 'banana', 'milk',\n",
    "               'sandwich', 'pancakes', 'bacon', 'chorizo', 'ham', 'patties', 'poached',\n",
    "               'sriracha', 'yolk', 'pureed', 'scrambled', 'egg']"
   ]
  },
  {
   "cell_type": "code",
   "execution_count": 216,
   "metadata": {
    "collapsed": false
   },
   "outputs": [],
   "source": [
    "words = words_class0 + words_class1"
   ]
  },
  {
   "cell_type": "code",
   "execution_count": 217,
   "metadata": {
    "collapsed": false
   },
   "outputs": [],
   "source": [
    "y = [0] * len(words_class0) + [1] * len(words_class1)"
   ]
  },
  {
   "cell_type": "code",
   "execution_count": 218,
   "metadata": {
    "collapsed": false
   },
   "outputs": [],
   "source": [
    "assert(len(words) == len(y))"
   ]
  },
  {
   "cell_type": "code",
   "execution_count": 219,
   "metadata": {
    "collapsed": false
   },
   "outputs": [],
   "source": [
    "# create a dataframe where rows = words; columns = concepts\n",
    "\n",
    "dataframe = []\n",
    "\n",
    "for word in words:\n",
    "    dataframe.append(model[word])\n",
    "    \n",
    "dataframe = pd.DataFrame(np.vstack(dataframe))"
   ]
  },
  {
   "cell_type": "markdown",
   "metadata": {},
   "source": [
    "# step 3: visualization\n",
    "\n",
    "compress 100D vector into 2D space with tsne for visualization. similar words will cluster together following tsne reduction."
   ]
  },
  {
   "cell_type": "code",
   "execution_count": 220,
   "metadata": {
    "collapsed": false
   },
   "outputs": [
    {
     "name": "stdout",
     "output_type": "stream",
     "text": [
      "[t-SNE] Computing pairwise distances...\n",
      "[t-SNE] Computed conditional probabilities for sample 45 / 45\n",
      "[t-SNE] Mean sigma: 2.271162\n",
      "[t-SNE] Error after 65 iterations with early exaggeration: 8.470215\n",
      "[t-SNE] Error after 123 iterations: 0.218624\n"
     ]
    }
   ],
   "source": [
    "data = TSNE(n_components=2, perplexity=40, learning_rate=100, verbose=1).fit_transform(dataframe)"
   ]
  },
  {
   "cell_type": "code",
   "execution_count": 221,
   "metadata": {
    "collapsed": false
   },
   "outputs": [
    {
     "data": {
      "text/plain": [
       "<matplotlib.collections.PathCollection at 0x113ec0110>"
      ]
     },
     "execution_count": 221,
     "metadata": {},
     "output_type": "execute_result"
    },
    {
     "data": {
      "image/png": "[encoded data removed]",
      "text/plain": [
       "<matplotlib.figure.Figure at 0x10b812850>"
      ]
     },
     "metadata": {},
     "output_type": "display_data"
    }
   ],
   "source": [
    "split_pt = len(words_class0) # split points in order to better visualize data\n",
    "\n",
    "plt.scatter(data[:split_pt, 0], data[:split_pt, 1], c = 'r', marker = 's')\n",
    "plt.scatter(data[split_pt:, 0], data[split_pt:, 1], c = 'b', marker = 'v')"
   ]
  },
  {
   "cell_type": "code",
   "execution_count": null,
   "metadata": {
    "collapsed": true
   },
   "outputs": [],
   "source": []
  },
  {
   "cell_type": "code",
   "execution_count": null,
   "metadata": {
    "collapsed": true
   },
   "outputs": [],
   "source": []
  }
 ],
 "metadata": {
  "kernelspec": {
   "display_name": "Python 2",
   "language": "python",
   "name": "python2"
  },
  "language_info": {
   "codemirror_mode": {
    "name": "ipython",
    "version": 2
   },
   "file_extension": ".py",
   "mimetype": "text/x-python",
   "name": "python",
   "nbconvert_exporter": "python",
   "pygments_lexer": "ipython2",
   "version": "2.7.10"
  }
 },
 "nbformat": 4,
 "nbformat_minor": 0
}
