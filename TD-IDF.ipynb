{
 "cells": [
  {
   "cell_type": "markdown",
   "metadata": {},
   "source": [
    "created on 8/1/15 to illustrate td-idf. td-idf is a weighting scheme for term document matrices. each word weight depends on (1) frequency within a given document (high frequency = higher weight) and (2) scarcity in the corpus (scarce = higher weight).\n",
    "\n",
    "reference:\n",
    "\n",
    "http://www.markhneedham.com/blog/2015/02/15/pythonscikit-learn-calculating-tfidf-on-how-i-met-your-mother-transcripts/"
   ]
  },
  {
   "cell_type": "code",
   "execution_count": 8,
   "metadata": {
    "collapsed": true
   },
   "outputs": [],
   "source": [
    "from sklearn.feature_extraction.text import TfidfVectorizer"
   ]
  },
  {
   "cell_type": "code",
   "execution_count": 2,
   "metadata": {
    "collapsed": true
   },
   "outputs": [],
   "source": [
    "'''ngram range tells model to grab bigrams and trigrams. so \"i love python\" turns into six tokens:\n",
    "'i', 'love', 'python', 'i love', 'love python', 'i love python'.'''\n",
    "\n",
    "tf = TfidfVectorizer(analyzer='word', ngram_range=(1,3), min_df = 0, stop_words = 'english')"
   ]
  },
  {
   "cell_type": "code",
   "execution_count": 27,
   "metadata": {
    "collapsed": true
   },
   "outputs": [],
   "source": [
    "# corpus is a list of strings\n",
    "\n",
    "corpus = ['Python is a 2000 made-for-TV horror movie directed by Richard Clabaugh',\n",
    "          ' The film features several cult favorite actors', \n",
    "          'including William Zabka of The Karate Kid fame, Wil Wheaton, Casper Van Dien']"
   ]
  },
  {
   "cell_type": "code",
   "execution_count": 28,
   "metadata": {
    "collapsed": false
   },
   "outputs": [
    {
     "data": {
      "text/plain": [
       "<3x63 sparse matrix of type '<type 'numpy.float64'>'\n",
       "\twith 63 stored elements in Compressed Sparse Row format>"
      ]
     },
     "execution_count": 28,
     "metadata": {},
     "output_type": "execute_result"
    }
   ],
   "source": [
    "# transform generates tokens; fit populates matrix\n",
    "\n",
    "tfidf_matrix =  tf.fit_transform(corpus)\n",
    "tfidf_matrix # 3x63 because there are 3 documents and 63 possible tokens"
   ]
  },
  {
   "cell_type": "code",
   "execution_count": 29,
   "metadata": {
    "collapsed": false
   },
   "outputs": [
    {
     "data": {
      "text/plain": [
       "[u'2000', u'2000 tv', u'2000 tv horror', u'actors', u'casper']"
      ]
     },
     "execution_count": 29,
     "metadata": {},
     "output_type": "execute_result"
    }
   ],
   "source": [
    "# inspect tokens\n",
    "\n",
    "tf.get_feature_names()[:5]"
   ]
  },
  {
   "cell_type": "code",
   "execution_count": 30,
   "metadata": {
    "collapsed": false
   },
   "outputs": [],
   "source": [
    "# inspect weighted TDM to identify important words\n",
    "\n",
    "# unpack sparse matrix to dense\n",
    "dense = tfidf_matrix.todense()\n",
    "\n",
    "# inspect first document \n",
    "# convert each row (represented by dense which is 3x63) in to a list\n",
    "document = dense[0].tolist()[0]"
   ]
  },
  {
   "cell_type": "code",
   "execution_count": 31,
   "metadata": {
    "collapsed": false
   },
   "outputs": [
    {
     "name": "stdout",
     "output_type": "stream",
     "text": [
      "2000                 0.218217890236\n",
      "2000 tv              0.218217890236\n",
      "2000 tv horror       0.218217890236\n",
      "clabaugh             0.218217890236\n",
      "directed             0.218217890236\n",
      "directed richard     0.218217890236\n",
      "directed richard clabaugh 0.218217890236\n",
      "horror               0.218217890236\n",
      "horror movie         0.218217890236\n",
      "horror movie directed 0.218217890236\n",
      "movie                0.218217890236\n",
      "movie directed       0.218217890236\n",
      "movie directed richard 0.218217890236\n",
      "python               0.218217890236\n",
      "python 2000          0.218217890236\n",
      "python 2000 tv       0.218217890236\n",
      "richard              0.218217890236\n",
      "richard clabaugh     0.218217890236\n",
      "tv                   0.218217890236\n",
      "tv horror            0.218217890236\n"
     ]
    }
   ],
   "source": [
    "phrase_scores = [pair for pair in zip(range(0, len(document)), document) if pair[1] > 0]\n",
    "\n",
    "sorted_phrase_scores = sorted(phrase_scores, key=lambda t: t[1] * -1)\n",
    "for phrase, score in [(feature_names[word_id], score) for (word_id, score) in sorted_phrase_scores][:20]:\n",
    "   print('{0: <20} {1}'.format(phrase, score))"
   ]
  },
  {
   "cell_type": "code",
   "execution_count": null,
   "metadata": {
    "collapsed": true
   },
   "outputs": [],
   "source": []
  },
  {
   "cell_type": "code",
   "execution_count": null,
   "metadata": {
    "collapsed": true
   },
   "outputs": [],
   "source": []
  }
 ],
 "metadata": {
  "kernelspec": {
   "display_name": "Python 2",
   "language": "python",
   "name": "python2"
  },
  "language_info": {
   "codemirror_mode": {
    "name": "ipython",
    "version": 2
   },
   "file_extension": ".py",
   "mimetype": "text/x-python",
   "name": "python",
   "nbconvert_exporter": "python",
   "pygments_lexer": "ipython2",
   "version": "2.7.10"
  }
 },
 "nbformat": 4,
 "nbformat_minor": 0
}
