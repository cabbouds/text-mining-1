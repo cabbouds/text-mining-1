{
 "cells": [
  {
   "cell_type": "markdown",
   "metadata": {},
   "source": [
    "created on 11/25/15 (last day at clarapath; just had dinner w momo and dodo - beef noodle soup)\n",
    "\n",
    "updated on 11/28/15 (bay will arrive at jfk in 3 hours from taiwan) \n",
    "\n",
    "updated on 12/11/15 (month off before samsung; will have pair programming at triplelift; work at ace hotel with al later today; updating this as im reviewing manifold learning, which discusses representation learning in NLP).\n",
    "\n",
    "updated on 12/28/15 (week before sams; at brazilia coffeeshop; just including notes).\n",
    "\n",
    "word2vec is word embedding. the assumption is that there are only 300-500 topics that are represented in high dimensional space (100,000+ words in a vocabulary). therefore, the goal is to re-map topics that are represented in natural langauge (high D) back to topics (low D). by doing so, you are learning the manifold upon which topics reside.\n",
    "\n",
    "\n",
    "\n",
    "data source: https://www.kaggle.com/c/word2vec-nlp-tutorial/details/part-2-word-vectors"
   ]
  },
  {
   "cell_type": "code",
   "execution_count": 1,
   "metadata": {
    "collapsed": true
   },
   "outputs": [],
   "source": [
    "import pandas as pd\n",
    "import gensim\n",
    "import numpy as np\n",
    "from sklearn.manifold import TSNE # works better than the tsne package"
   ]
  },
  {
   "cell_type": "markdown",
   "metadata": {},
   "source": [
    "# step 1: data preparation"
   ]
  },
  {
   "cell_type": "code",
   "execution_count": 2,
   "metadata": {
    "collapsed": true
   },
   "outputs": [],
   "source": [
    "unlabeled_train = pd.read_csv( \"unlabeledTrainData.tsv\", header=0, delimiter=\"\\t\", quoting=3 )"
   ]
  },
  {
   "cell_type": "code",
   "execution_count": 3,
   "metadata": {
    "collapsed": false
   },
   "outputs": [
    {
     "data": {
      "text/plain": [
       "50000"
      ]
     },
     "execution_count": 3,
     "metadata": {},
     "output_type": "execute_result"
    }
   ],
   "source": [
    "# each review is split into a list of tokens; text is a list of lists\n",
    "\n",
    "text = unlabeled_train['review'].map(lambda x: x.lower().split())\n",
    "len(text)"
   ]
  },
  {
   "cell_type": "markdown",
   "metadata": {},
   "source": [
    "# step 2: train word2vec model\n",
    "\n",
    "alternatively, there is a pretrained glove model here: http://aylien.com/web-summit-2015-tweets-part1"
   ]
  },
  {
   "cell_type": "code",
   "execution_count": 4,
   "metadata": {
    "collapsed": false
   },
   "outputs": [
    {
     "name": "stdout",
     "output_type": "stream",
     "text": [
      "training...\n",
      "execution time:  49.4065539837\n"
     ]
    }
   ],
   "source": [
    "print \"training...\"\n",
    "\n",
    "# ~1 min to train\n",
    "# min count is minimum frequency of words in order to be relevant\n",
    "# size is the size of feature vector, usually between 50 and 300\n",
    "# workers = number of cores\n",
    "\n",
    "import time\n",
    "\n",
    "start = time.time() # Start time\n",
    "\n",
    "model = gensim.models.Word2Vec(text, size=100, window=5, min_count=10, workers=4)\n",
    "\n",
    "end = time.time()\n",
    "elapsed = end - start\n",
    "\n",
    "print 'execution time: ', elapsed"
   ]
  },
  {
   "cell_type": "code",
   "execution_count": 5,
   "metadata": {
    "collapsed": true
   },
   "outputs": [],
   "source": [
    "# persist trained word2vec model\n",
    "\n",
    "model.save('word2vec_bagofpopcorn_112515.pkl')"
   ]
  },
  {
   "cell_type": "code",
   "execution_count": 6,
   "metadata": {
    "collapsed": false
   },
   "outputs": [
    {
     "data": {
      "text/plain": [
       "[('woman', 0.8233506679534912),\n",
       " ('guy', 0.7667827010154724),\n",
       " ('girl', 0.7538588047027588),\n",
       " ('doctor', 0.7214196920394897),\n",
       " ('soldier', 0.7119728326797485),\n",
       " ('kid', 0.6974995136260986),\n",
       " ('lad', 0.6902358531951904),\n",
       " ('boy', 0.6861493587493896),\n",
       " ('lady', 0.6630043983459473),\n",
       " ('man,', 0.6591916084289551)]"
      ]
     },
     "execution_count": 6,
     "metadata": {},
     "output_type": "execute_result"
    }
   ],
   "source": [
    "# inspect word similarities\n",
    "\n",
    "model.most_similar('man')"
   ]
  },
  {
   "cell_type": "code",
   "execution_count": 10,
   "metadata": {
    "collapsed": false
   },
   "outputs": [
    {
     "data": {
      "text/plain": [
       "array([[ 0.82335055]], dtype=float32)"
      ]
     },
     "execution_count": 10,
     "metadata": {},
     "output_type": "execute_result"
    }
   ],
   "source": [
    "# similiarity is cosine - lets verify\n",
    "from sklearn.metrics.pairwise import cosine_similarity\n",
    "cosine_similarity(model['man'], model['woman'])"
   ]
  },
  {
   "cell_type": "code",
   "execution_count": 11,
   "metadata": {
    "collapsed": false
   },
   "outputs": [
    {
     "data": {
      "text/plain": [
       "43962"
      ]
     },
     "execution_count": 11,
     "metadata": {},
     "output_type": "execute_result"
    }
   ],
   "source": [
    "# size of model's vocabulary is 44k\n",
    "\n",
    "len(model.syn0)"
   ]
  },
  {
   "cell_type": "code",
   "execution_count": 12,
   "metadata": {
    "collapsed": false
   },
   "outputs": [
    {
     "data": {
      "text/plain": [
       "(100,)"
      ]
     },
     "execution_count": 12,
     "metadata": {},
     "output_type": "execute_result"
    }
   ],
   "source": [
    "# each word in the vocabulary has 100 dimensions\n",
    "\n",
    "model.syn0[0].shape"
   ]
  },
  {
   "cell_type": "markdown",
   "metadata": {},
   "source": [
    "### analogies!\n",
    "\n",
    "reference: http://arxiv.org/pdf/1301.3781v3.pdf"
   ]
  },
  {
   "cell_type": "code",
   "execution_count": 13,
   "metadata": {
    "collapsed": false
   },
   "outputs": [],
   "source": [
    "man = model['man']\n",
    "boy = model['boy']\n",
    "girl = model['girl']"
   ]
  },
  {
   "cell_type": "code",
   "execution_count": 14,
   "metadata": {
    "collapsed": true
   },
   "outputs": [],
   "source": [
    "unknown = man - boy + girl"
   ]
  },
  {
   "cell_type": "code",
   "execution_count": 15,
   "metadata": {
    "collapsed": true
   },
   "outputs": [],
   "source": [
    "woman = model['woman']"
   ]
  },
  {
   "cell_type": "code",
   "execution_count": 16,
   "metadata": {
    "collapsed": false
   },
   "outputs": [
    {
     "data": {
      "text/plain": [
       "array([[ 0.8172642]], dtype=float32)"
      ]
     },
     "execution_count": 16,
     "metadata": {},
     "output_type": "execute_result"
    }
   ],
   "source": [
    "cosine_similarity(unknown, woman)"
   ]
  },
  {
   "cell_type": "markdown",
   "metadata": {},
   "source": [
    "# step 3: generate word representations\n",
    "\n",
    "These representations, hopefully, make the data “nicer” for the network to classify. There has been a lot of work exploring representations recently. Perhaps the most fascinating has been in Natural Language Processing: the representations we learn of words, called word embeddings, have interesting properties.\n",
    "\n",
    "reference: https://colah.github.io/posts/2014-03-NN-Manifolds-Topology/"
   ]
  },
  {
   "cell_type": "code",
   "execution_count": 29,
   "metadata": {
    "collapsed": true
   },
   "outputs": [],
   "source": [
    "words_class0 = ['plane', 'ship', 'boat', 'bus', 'truck', 'bridge', 'car', 'helicopter',\n",
    "               'spaceship', 'train', 'flight', 'ferry']"
   ]
  },
  {
   "cell_type": "code",
   "execution_count": 30,
   "metadata": {
    "collapsed": true
   },
   "outputs": [],
   "source": [
    "words_class1 = ['aliens', 'robots', 'zombies', 'spiders', 'vampires', 'mummies', 'gangsters',\n",
    "                'bees', 'monsters', 'wasps', 'creatures', 'predators', 'animals', 'poachers']"
   ]
  },
  {
   "cell_type": "code",
   "execution_count": 31,
   "metadata": {
    "collapsed": true
   },
   "outputs": [],
   "source": [
    "words = words_class0 + words_class1"
   ]
  },
  {
   "cell_type": "code",
   "execution_count": 32,
   "metadata": {
    "collapsed": true
   },
   "outputs": [],
   "source": [
    "y = [0] * len(words_class0) + [1] * len(words_class1)"
   ]
  },
  {
   "cell_type": "code",
   "execution_count": 33,
   "metadata": {
    "collapsed": false
   },
   "outputs": [
    {
     "data": {
      "text/plain": [
       "(26, 100)"
      ]
     },
     "execution_count": 33,
     "metadata": {},
     "output_type": "execute_result"
    }
   ],
   "source": [
    "# create a dataframe where rows = words; columns = concepts\n",
    "\n",
    "x_df = []\n",
    "\n",
    "for word in words:\n",
    "    x_df.append(model[word])\n",
    "    \n",
    "x_df = pd.DataFrame(np.vstack(x_df))\n",
    "\n",
    "x_df.shape"
   ]
  },
  {
   "cell_type": "markdown",
   "metadata": {},
   "source": [
    "# step 4: visualize word representations\n",
    "\n",
    "updated on 11/28/15 (bay will arrive at jfk in 3 hours from taiwan) to include 2-step dimensionality technique of svd + tsne. \n",
    "\n",
    "the technique sues svd to reduce high dimensions to something lower, and then applying t-sne to further reduction.\n",
    "\n",
    "http://aylien.com/web-summit-2015-tweets-part1"
   ]
  },
  {
   "cell_type": "code",
   "execution_count": 36,
   "metadata": {
    "collapsed": true
   },
   "outputs": [],
   "source": [
    "from sklearn.decomposition import TruncatedSVD\n",
    "\n",
    "svd = TruncatedSVD(n_components=10, random_state=0)\n",
    "x_df_svd = svd.fit_transform(x_df)"
   ]
  },
  {
   "cell_type": "code",
   "execution_count": 37,
   "metadata": {
    "collapsed": false
   },
   "outputs": [
    {
     "data": {
      "text/plain": [
       "(26, 10)"
      ]
     },
     "execution_count": 37,
     "metadata": {},
     "output_type": "execute_result"
    }
   ],
   "source": [
    "x_df_svd.shape"
   ]
  },
  {
   "cell_type": "code",
   "execution_count": 38,
   "metadata": {
    "collapsed": false
   },
   "outputs": [
    {
     "name": "stdout",
     "output_type": "stream",
     "text": [
      "[t-SNE] Computing pairwise distances...\n",
      "[t-SNE] Computed conditional probabilities for sample 26 / 26\n",
      "[t-SNE] Mean sigma: 1125899906842624.000000\n",
      "[t-SNE] Error after 65 iterations with early exaggeration: 8.297118\n",
      "[t-SNE] Error after 285 iterations: 0.516343\n"
     ]
    }
   ],
   "source": [
    "x = TSNE(n_components=2, perplexity=40, learning_rate=100, verbose=1).fit_transform(x_df_svd)"
   ]
  },
  {
   "cell_type": "code",
   "execution_count": 39,
   "metadata": {
    "collapsed": false
   },
   "outputs": [
    {
     "data": {
      "text/plain": [
       "<matplotlib.collections.PathCollection at 0x138db7c10>"
      ]
     },
     "execution_count": 39,
     "metadata": {},
     "output_type": "execute_result"
    },
    {
     "name": "stderr",
     "output_type": "stream",
     "text": [
      "/Users/vincenttang/anaconda/lib/python2.7/site-packages/matplotlib/collections.py:590: FutureWarning: elementwise comparison failed; returning scalar instead, but in the future will perform elementwise comparison\n",
      "  if self._edgecolors == str('face'):\n"
     ]
    },
    {
     "data": {
      "image/png": "[encoded data removed]",
      "text/plain": [
       "<matplotlib.figure.Figure at 0x1389da9d0>"
      ]
     },
     "metadata": {},
     "output_type": "display_data"
    }
   ],
   "source": [
    "import matplotlib.pyplot as plt\n",
    "% matplotlib inline\n",
    "\n",
    "split_pt = len(words_class0) # split points in order to better visualize data\n",
    "\n",
    "plt.scatter(x[:split_pt, 0], x[:split_pt, 1], c = 'r', marker = 's')\n",
    "plt.scatter(x[split_pt:, 0], x[split_pt:, 1], c = 'b', marker = 'v')"
   ]
  },
  {
   "cell_type": "markdown",
   "metadata": {},
   "source": [
    "# step 5: generate clusters\n",
    "\n",
    "lets create clusters of semantically related words that share the same concept.\n",
    "\n",
    "this is effectively LDA analysis. in LDA, you return a bunch of topics, each represented by a high dimensional vector of words. in word2vec, you return a bunch of words, each represented by a high dimensional vector of topics. so, LDA is the same as word2vec!\n",
    "\n",
    "by clustering into semantically related clusters, you are transforming word2vec to LDA.\n",
    "\n",
    "updated 11/28/15 to use minibatch kmeans. minibatch kmeans processes samples in batches rather individually and is therefore faster. reference: http://aylien.com/web-summit-2015-tweets-part1"
   ]
  },
  {
   "cell_type": "code",
   "execution_count": 41,
   "metadata": {
    "collapsed": true
   },
   "outputs": [],
   "source": [
    "from sklearn.cluster import KMeans\n",
    "from sklearn.cluster import MiniBatchKMeans"
   ]
  },
  {
   "cell_type": "code",
   "execution_count": 42,
   "metadata": {
    "collapsed": false
   },
   "outputs": [],
   "source": [
    "num_clusters = 5000\n",
    "\n",
    "# kmeans = KMeans(n_clusters = num_clusters)\n",
    "kmeans = MiniBatchKMeans(n_clusters = num_clusters)"
   ]
  },
  {
   "cell_type": "code",
   "execution_count": 43,
   "metadata": {
    "collapsed": true
   },
   "outputs": [],
   "source": [
    "# fit kmeans on 5k out of 44k\n",
    "\n",
    "training_data = model.syn0[:5000]"
   ]
  },
  {
   "cell_type": "code",
   "execution_count": 44,
   "metadata": {
    "collapsed": false
   },
   "outputs": [
    {
     "name": "stderr",
     "output_type": "stream",
     "text": [
      "/Users/vincenttang/anaconda/lib/python2.7/site-packages/sklearn/cluster/k_means_.py:1273: RuntimeWarning: init_size=300 should be larger than k=5000. Setting it to 3*k\n",
      "  init_size=init_size)\n"
     ]
    },
    {
     "data": {
      "text/plain": [
       "MiniBatchKMeans(batch_size=100, compute_labels=True, init='k-means++',\n",
       "        init_size=None, max_iter=100, max_no_improvement=10,\n",
       "        n_clusters=5000, n_init=3, random_state=None,\n",
       "        reassignment_ratio=0.01, tol=0.0, verbose=0)"
      ]
     },
     "execution_count": 44,
     "metadata": {},
     "output_type": "execute_result"
    }
   ],
   "source": [
    "kmeans.fit(training_data)"
   ]
  },
  {
   "cell_type": "code",
   "execution_count": 46,
   "metadata": {
    "collapsed": false
   },
   "outputs": [
    {
     "name": "stdout",
     "output_type": "stream",
     "text": [
      "\n"
     ]
    }
   ],
   "source": [
    "# instantiate dict where k = centroid label and v = list of similar words\n",
    "\n",
    "clusters_dict = {}\n",
    "\n",
    "for i in range(0, num_clusters):\n",
    "    clusters_dict[i] = []"
   ]
  },
  {
   "cell_type": "code",
   "execution_count": 47,
   "metadata": {
    "collapsed": false
   },
   "outputs": [],
   "source": [
    "# for each word in the vocabulary\n",
    "for i, w in enumerate(model.syn0):\n",
    "    \n",
    "    # assign word vector to a cluster\n",
    "    k = kmeans.predict(w)[0]\n",
    "    \n",
    "    # find corresponding word to the word vector\n",
    "    word = model.index2word[i] # index2word is a gensim method\n",
    "    \n",
    "    # then add corresponding word to the dictionary where k = centroid label and v = list of words\n",
    "    clusters_dict[k].append(word)"
   ]
  },
  {
   "cell_type": "code",
   "execution_count": 52,
   "metadata": {
    "collapsed": false
   },
   "outputs": [
    {
     "name": "stdout",
     "output_type": "stream",
     "text": [
      "150 ['comments']\n",
      "151 [\"wouldn't\"]\n",
      "152 ['supposed']\n",
      "153 ['(brazil):']\n",
      "154 ['scares', 'shocks', 'scares,', 'surprises.', 'thrills,']\n",
      "155 ['then']\n",
      "156 ['enjoyable.', 'disappointing.', 'good.\"', 'sad.', 'watchable.', 'entertaining.\"']\n",
      "157 ['dollars']\n",
      "158 ['does']\n",
      "159 ['teeth', 'butt', 'brains', 'shaking', 'knocking', 'ears', 'jaw', 'skin.', 'socks', 'toes', 'eyeballs']\n"
     ]
    }
   ],
   "source": [
    "# inspect clusters of concepts!\n",
    "\n",
    "for idx in range(150, 160):\n",
    "    print idx, clusters_dict[idx]"
   ]
  },
  {
   "cell_type": "code",
   "execution_count": null,
   "metadata": {
    "collapsed": true
   },
   "outputs": [],
   "source": []
  }
 ],
 "metadata": {
  "kernelspec": {
   "display_name": "Python 2",
   "language": "python",
   "name": "python2"
  },
  "language_info": {
   "codemirror_mode": {
    "name": "ipython",
    "version": 2
   },
   "file_extension": ".py",
   "mimetype": "text/x-python",
   "name": "python",
   "nbconvert_exporter": "python",
   "pygments_lexer": "ipython2",
   "version": "2.7.11"
  }
 },
 "nbformat": 4,
 "nbformat_minor": 0
}
