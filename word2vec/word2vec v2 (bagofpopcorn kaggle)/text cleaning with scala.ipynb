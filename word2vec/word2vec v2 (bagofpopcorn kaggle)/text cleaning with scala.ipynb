{
 "cells": [
  {
   "cell_type": "markdown",
   "metadata": {},
   "source": [
    "created on 11/26/15 (thanksgiving; bay is in taiwan; yesterday was my last day at clarapath; working on this to refresh scala)"
   ]
  },
  {
   "cell_type": "code",
   "execution_count": 1,
   "metadata": {
    "collapsed": false
   },
   "outputs": [
    {
     "data": {
      "text/plain": [
       "\u001b[32mimport \u001b[36mscala.io.Source\u001b[0m"
      ]
     },
     "metadata": {},
     "output_type": "display_data"
    }
   ],
   "source": [
    "import scala.io.Source"
   ]
  },
  {
   "cell_type": "code",
   "execution_count": 2,
   "metadata": {
    "collapsed": false
   },
   "outputs": [
    {
     "data": {
      "text/plain": [
       "\u001b[36mtext_0\u001b[0m: scala.io.BufferedSource = non-empty iterator"
      ]
     },
     "metadata": {},
     "output_type": "display_data"
    }
   ],
   "source": [
    "// source.fromfile creates a generator\n",
    "\n",
    "val text_0 = Source.fromFile(\"unlabeledTrainData.tsv\")"
   ]
  },
  {
   "cell_type": "code",
   "execution_count": 3,
   "metadata": {
    "collapsed": false
   },
   "outputs": [
    {
     "data": {
      "text/plain": [
       "\u001b[36mtext_1\u001b[0m: String = \u001b[32m\"\"\"\n",
       "id\treview\n",
       "\"9999_0\"\t\"Watching Time Chasers, it obvious that it was made by a bunch of friends. Maybe they were sitting around one day in film school and said, \\\"Hey, let's pool our money together and make a really bad movie!\\\" Or something like that. What ever they said, they still ended up making a really bad movie--dull story, bad script, lame acting, poor cinematography, bottom of the barrel stock music, etc. All corners were cut, except the one that would have prevented this film's release. Life's like that.\"\n",
       "\"45057_0\"\t\"I saw this film about 20 years ago and remember it as being particularly nasty. I believe it is based on a true incident: a young man breaks into a nurses' home and rapes, tortures and kills various women.<br /><br />It is in black and white but saves the colour for one shocking shot.<br /><br />At the end the film seems to be trying to make some political statement but it just comes across as confused and obscene.<br /><br />Avoid.\"\n",
       "\"15561_0\"\t\"Minor Spoilers<br /><br />In New York, Joan Barnard (Elvire Audrey) is informed that her husband, the archeologist Arthur Barnard (John Saxon), was mysteriously murdered in Italy while sear\u001b[33m...\u001b[0m"
      ]
     },
     "metadata": {},
     "output_type": "display_data"
    }
   ],
   "source": [
    "// read into memory by converting generator into a string\n",
    "\n",
    "val text_1 = text_0.mkString"
   ]
  },
  {
   "cell_type": "code",
   "execution_count": 4,
   "metadata": {
    "collapsed": false
   },
   "outputs": [
    {
     "data": {
      "text/plain": [
       "\u001b[36mtext_2\u001b[0m: scala.Array[java.lang.String] = \u001b[33mArray\u001b[0m(\n",
       "  \u001b[32m\"id\"\u001b[0m,\n",
       "  \u001b[32m\"\"\"\n",
       "  review\n",
       "  \"9999_0\"\n",
       "  \"\"\"\u001b[0m,\n",
       "  \u001b[32m\"\"\"\n",
       "  \"Watching Time Chasers, it obvious that it was made by a bunch of friends. Maybe they were sitting around one day in film school and said, \\\"Hey, let's pool our money together and make a really bad movie!\\\" Or something like that. What ever they said, they still ended up making a really bad movie--dull story, bad script, lame acting, poor cinematography, bottom of the barrel stock music, etc. All corners were cut, except the one that would have prevented this film's release. Life's like that.\"\n",
       "  \"45057_0\"\n",
       "  \"\"\"\u001b[0m,\n",
       "  \u001b[32m\"\"\"\n",
       "\u001b[33m...\u001b[0m"
      ]
     },
     "metadata": {},
     "output_type": "display_data"
    }
   ],
   "source": [
    "// split by tabs\n",
    "\n",
    "val text_2 = text_1.split(\"\\t\")"
   ]
  },
  {
   "cell_type": "code",
   "execution_count": 5,
   "metadata": {
    "collapsed": false
   },
   "outputs": [
    {
     "data": {
      "text/plain": [
       "\u001b[36mres4\u001b[0m: Int = \u001b[32m50002\u001b[0m"
      ]
     },
     "metadata": {},
     "output_type": "display_data"
    }
   ],
   "source": [
    "// there should be 50k lines in this file\n",
    "\n",
    "text_2.length"
   ]
  },
  {
   "cell_type": "code",
   "execution_count": 6,
   "metadata": {
    "collapsed": false
   },
   "outputs": [
    {
     "data": {
      "text/plain": [
       "\u001b[36mtext_3\u001b[0m: scala.Array[java.lang.String] = \u001b[33mArray\u001b[0m(\n",
       "  \u001b[32m\"id\"\u001b[0m,\n",
       "  \u001b[32m\"\"\"\n",
       "  review\n",
       "  \"9999_0\"\n",
       "  \"\"\"\u001b[0m,\n",
       "  \u001b[32m\"\"\"\n",
       "  \"watching time chasers, it obvious that it was made by a bunch of friends. maybe they were sitting around one day in film school and said, \\\"hey, let's pool our money together and make a really bad movie!\\\" or something like that. what ever they said, they still ended up making a really bad movie--dull story, bad script, lame acting, poor cinematography, bottom of the barrel stock music, etc. all corners were cut, except the one that would have prevented this film's release. life's like that.\"\n",
       "  \"45057_0\"\n",
       "  \"\"\"\u001b[0m,\n",
       "  \u001b[32m\"\"\"\n",
       "\u001b[33m...\u001b[0m"
      ]
     },
     "metadata": {},
     "output_type": "display_data"
    }
   ],
   "source": [
    "// convert each line to lowercase\n",
    "\n",
    "val text_3 = text_2.map(line => line.toLowerCase)"
   ]
  },
  {
   "cell_type": "code",
   "execution_count": 7,
   "metadata": {
    "collapsed": false
   },
   "outputs": [
    {
     "data": {
      "text/plain": [
       "\u001b[36mtext_4\u001b[0m: scala.Array[java.lang.String] = \u001b[33mArray\u001b[0m(\n",
       "  \u001b[32m\"id\"\u001b[0m,\n",
       "  \u001b[32m\"\"\"\n",
       "  review\n",
       "  99990\n",
       "  \"\"\"\u001b[0m,\n",
       "  \u001b[32m\"\"\"\n",
       "  watching time chasers it obvious that it was made by a bunch of friends. maybe they were sitting around one day in film school and said hey lets pool our money together and make a really bad movie or something like that. what ever they said they still ended up making a really bad moviedull story bad script lame acting poor cinematography bottom of the barrel stock music etc. all corners were cut except the one that would have prevented this films release. lifes like that.\n",
       "  450570\n",
       "  \"\"\"\u001b[0m,\n",
       "  \u001b[32m\"\"\"\n",
       "\u001b[33m...\u001b[0m"
      ]
     },
     "metadata": {},
     "output_type": "display_data"
    }
   ],
   "source": [
    "// for each line, discard punctuation\n",
    "// https://stackoverflow.com/questions/30074109/removing-punctuation-marks-form-text-in-scala-spark\n",
    "\n",
    "val text_4 = text_3.map(line => line.replaceAll(\"\"\"[\\p{Punct}&&[^.]]\"\"\", \"\"))"
   ]
  },
  {
   "cell_type": "code",
   "execution_count": 8,
   "metadata": {
    "collapsed": false
   },
   "outputs": [
    {
     "data": {
      "text/plain": [
       "\u001b[36mres7\u001b[0m: java.lang.String = \u001b[32m\"\"\"\n",
       "for years friends expressed amazement that i had never watched niptuck  just my kind of show they insisted. and so spurred by the recent assault of preseason publicity i decided to pay a firsttime visit to niptuck last night. i was expecting sly and witty satire. what i found instead in repeat episodes that focused on a serial mangler and a deranged racist was a puerile unrelenting torrent of violence and sadism. robotic andor hysterical acting moronic plot contortions and enough deep shadow in miami yet to make edgar ulmer spin like a top. it was like watching joel schumacher direct ricky martin as hannibal lecter. nice to know what my friends think of my taste.\n",
       "361850\n",
       "\"\"\"\u001b[0m"
      ]
     },
     "metadata": {},
     "output_type": "display_data"
    }
   ],
   "source": [
    "text_4(34)"
   ]
  },
  {
   "cell_type": "markdown",
   "metadata": {},
   "source": [
    "## wordcount!"
   ]
  },
  {
   "cell_type": "code",
   "execution_count": 16,
   "metadata": {
    "collapsed": false
   },
   "outputs": [
    {
     "data": {
      "text/plain": [
       "\u001b[36mtext_5\u001b[0m: scala.Array[java.lang.String] = \u001b[33mArray\u001b[0m(\n",
       "  \u001b[32m\"id\"\u001b[0m,\n",
       "  \u001b[32m\"\"\"\n",
       "  review\n",
       "  99990\n",
       "  \"\"\"\u001b[0m,\n",
       "  \u001b[32m\"\"\"\n",
       "  watching time chasers it obvious that it was made by a bunch of friends. maybe they were sitting around one day in film school and said hey lets pool our money together and make a really bad movie or something like that. what ever they said they still ended up making a really bad moviedull story bad script lame acting poor cinematography bottom of the barrel stock music etc. all corners were cut except the one that would have prevented this films release. lifes like that.\n",
       "  450570\n",
       "  \"\"\"\u001b[0m,\n",
       "  \u001b[32m\"\"\"\n",
       "\u001b[33m...\u001b[0m"
      ]
     },
     "metadata": {},
     "output_type": "display_data"
    }
   ],
   "source": [
    "// slicing so we dont consume too much heap memory\n",
    "\n",
    "val text_5 = text_4.slice(0, 100)"
   ]
  },
  {
   "cell_type": "code",
   "execution_count": 12,
   "metadata": {
    "collapsed": false
   },
   "outputs": [
    {
     "data": {
      "text/plain": [
       "\u001b[36mtext_6\u001b[0m: scala.Array[java.lang.String] = \u001b[33mArray\u001b[0m(\n",
       "  \u001b[32m\"id\"\u001b[0m,\n",
       "  \u001b[32m\"review\"\u001b[0m,\n",
       "  \u001b[32m\"99990\"\u001b[0m,\n",
       "  \u001b[32m\"watching\"\u001b[0m,\n",
       "  \u001b[32m\"time\"\u001b[0m,\n",
       "  \u001b[32m\"chasers\"\u001b[0m,\n",
       "  \u001b[32m\"it\"\u001b[0m,\n",
       "  \u001b[32m\"obvious\"\u001b[0m,\n",
       "  \u001b[32m\"that\"\u001b[0m,\n",
       "  \u001b[32m\"it\"\u001b[0m,\n",
       "  \u001b[32m\"was\"\u001b[0m,\n",
       "  \u001b[32m\"made\"\u001b[0m,\n",
       "  \u001b[32m\"by\"\u001b[0m,\n",
       "  \u001b[32m\"a\"\u001b[0m,\n",
       "\u001b[33m...\u001b[0m"
      ]
     },
     "metadata": {},
     "output_type": "display_data"
    }
   ],
   "source": [
    "// this is an array of a single string, so just split by words\n",
    "// now we have a single array of tokens\n",
    "\n",
    "val text_6 = text_5.flatMap(line => line.split(\"\\\\s\"))"
   ]
  },
  {
   "cell_type": "code",
   "execution_count": 13,
   "metadata": {
    "collapsed": false
   },
   "outputs": [
    {
     "data": {
      "text/plain": [
       "\u001b[36mtext_7\u001b[0m: scala.collection.immutable.Map[java.lang.String,scala.Array[java.lang.String]] = \u001b[33mMap\u001b[0m(\n",
       "  \u001b[32m\"unlikely.\"\u001b[0m -> \u001b[33mArray\u001b[0m(\u001b[32m\"unlikely.\"\u001b[0m),\n",
       "  \u001b[32m\"incident\"\u001b[0m -> \u001b[33mArray\u001b[0m(\u001b[32m\"incident\"\u001b[0m, \u001b[32m\"incident\"\u001b[0m, \u001b[32m\"incident\"\u001b[0m, \u001b[32m\"incident\"\u001b[0m),\n",
       "  \u001b[32m\"breaks\"\u001b[0m -> \u001b[33mArray\u001b[0m(\u001b[32m\"breaks\"\u001b[0m, \u001b[32m\"breaks\"\u001b[0m, \u001b[32m\"breaks\"\u001b[0m, \u001b[32m\"breaks\"\u001b[0m),\n",
       "  \u001b[32m\"forgotten\"\u001b[0m -> \u001b[33mArray\u001b[0m(\u001b[32m\"forgotten\"\u001b[0m, \u001b[32m\"forgotten\"\u001b[0m, \u001b[32m\"forgotten\"\u001b[0m),\n",
       "  \u001b[32m\"tripe\"\u001b[0m -> \u001b[33mArray\u001b[0m(\u001b[32m\"tripe\"\u001b[0m),\n",
       "  \u001b[32m\"lover\"\u001b[0m -> \u001b[33mArray\u001b[0m(\u001b[32m\"lover\"\u001b[0m),\n",
       "  \u001b[32m\"of.\"\u001b[0m -> \u001b[33mArray\u001b[0m(\u001b[32m\"of.\"\u001b[0m),\n",
       "  \u001b[32m\"lead.\"\u001b[0m -> \u001b[33mArray\u001b[0m(\u001b[32m\"lead.\"\u001b[0m),\n",
       "  \u001b[32m\"terrible\"\u001b[0m -> \u001b[33mArray\u001b[0m(\u001b[32m\"terrible\"\u001b[0m, \u001b[32m\"terrible\"\u001b[0m, \u001b[32m\"terrible\"\u001b[0m),\n",
       "  \u001b[32m\"rate\"\u001b[0m -> \u001b[33mArray\u001b[0m(\u001b[32m\"rate\"\u001b[0m, \u001b[32m\"rate\"\u001b[0m),\n",
       "\u001b[33m...\u001b[0m"
      ]
     },
     "metadata": {},
     "output_type": "display_data"
    }
   ],
   "source": [
    "// groupby tokens; now we have a map where k = token and v = array of said tokens\n",
    "\n",
    "val text_7 =  text_6.groupBy(token => token)"
   ]
  },
  {
   "cell_type": "code",
   "execution_count": 14,
   "metadata": {
    "collapsed": false
   },
   "outputs": [
    {
     "data": {
      "text/plain": [
       "\u001b[36mtext_8\u001b[0m: scala.collection.immutable.Map[java.lang.String,Int] = \u001b[33mMap\u001b[0m(\n",
       "  \u001b[32m\"unlikely.\"\u001b[0m -> \u001b[32m1\u001b[0m,\n",
       "  \u001b[32m\"incident\"\u001b[0m -> \u001b[32m4\u001b[0m,\n",
       "  \u001b[32m\"breaks\"\u001b[0m -> \u001b[32m4\u001b[0m,\n",
       "  \u001b[32m\"forgotten\"\u001b[0m -> \u001b[32m3\u001b[0m,\n",
       "  \u001b[32m\"tripe\"\u001b[0m -> \u001b[32m1\u001b[0m,\n",
       "  \u001b[32m\"lover\"\u001b[0m -> \u001b[32m1\u001b[0m,\n",
       "  \u001b[32m\"of.\"\u001b[0m -> \u001b[32m1\u001b[0m,\n",
       "  \u001b[32m\"lead.\"\u001b[0m -> \u001b[32m1\u001b[0m,\n",
       "  \u001b[32m\"terrible\"\u001b[0m -> \u001b[32m3\u001b[0m,\n",
       "  \u001b[32m\"rate\"\u001b[0m -> \u001b[32m2\u001b[0m,\n",
       "  \u001b[32m\"inevitable\"\u001b[0m -> \u001b[32m1\u001b[0m,\n",
       "  \u001b[32m\"nonetheless\"\u001b[0m -> \u001b[32m1\u001b[0m,\n",
       "  \u001b[32m\"lights\"\u001b[0m -> \u001b[32m1\u001b[0m,\n",
       "  \u001b[32m\"rage\"\u001b[0m -> \u001b[32m1\u001b[0m,\n",
       "\u001b[33m...\u001b[0m"
      ]
     },
     "metadata": {},
     "output_type": "display_data"
    }
   ],
   "source": [
    "// count length of array of tokens for word count\n",
    "\n",
    "val text_8 = text_7.mapValues(v_in_kv => v_in_kv.size)"
   ]
  },
  {
   "cell_type": "code",
   "execution_count": 15,
   "metadata": {
    "collapsed": false
   },
   "outputs": [
    {
     "data": {
      "text/plain": [
       "\u001b[36mres14\u001b[0m: scala.collection.immutable.Map[java.lang.String,Int] = \u001b[33mMap\u001b[0m(\n",
       "  \u001b[32m\"looks\"\u001b[0m -> \u001b[32m5\u001b[0m,\n",
       "  \u001b[32m\"california\"\u001b[0m -> \u001b[32m5\u001b[0m,\n",
       "  \u001b[32m\"particularly\"\u001b[0m -> \u001b[32m6\u001b[0m,\n",
       "  \u001b[32m\"used\"\u001b[0m -> \u001b[32m8\u001b[0m,\n",
       "  \u001b[32m\"beautiful\"\u001b[0m -> \u001b[32m11\u001b[0m,\n",
       "  \u001b[32m\"funny\"\u001b[0m -> \u001b[32m7\u001b[0m,\n",
       "  \u001b[32m\"down\"\u001b[0m -> \u001b[32m6\u001b[0m,\n",
       "  \u001b[32m\"serial\"\u001b[0m -> \u001b[32m5\u001b[0m,\n",
       "  \u001b[32m\"please\"\u001b[0m -> \u001b[32m10\u001b[0m,\n",
       "  \u001b[32m\"interesting\"\u001b[0m -> \u001b[32m7\u001b[0m,\n",
       "  \u001b[32m\"\"\u001b[0m -> \u001b[32m77\u001b[0m,\n",
       "  \u001b[32m\"read\"\u001b[0m -> \u001b[32m6\u001b[0m,\n",
       "  \u001b[32m\"number\"\u001b[0m -> \u001b[32m5\u001b[0m,\n",
       "  \u001b[32m\"actor\"\u001b[0m -> \u001b[32m8\u001b[0m,\n",
       "\u001b[33m...\u001b[0m"
      ]
     },
     "metadata": {},
     "output_type": "display_data"
    }
   ],
   "source": [
    "// filter out kv pairs where v is small!\n",
    "// https://stackoverflow.com/questions/11854433/filter-map-for-values-of-none\n",
    "\n",
    "text_8.filter(kv => kv._2 > 4)"
   ]
  },
  {
   "cell_type": "code",
   "execution_count": null,
   "metadata": {
    "collapsed": true
   },
   "outputs": [],
   "source": []
  }
 ],
 "metadata": {
  "kernelspec": {
   "display_name": "Scala 2.10",
   "language": "scala210",
   "name": "scala210"
  },
  "language_info": {
   "codemirror_mode": "text/x-scala",
   "file_extension": "scala",
   "mimetype": "text/x-scala",
   "name": "scala210",
   "pygments_lexer": "scala",
   "version": "2.10.5"
  }
 },
 "nbformat": 4,
 "nbformat_minor": 0
}
