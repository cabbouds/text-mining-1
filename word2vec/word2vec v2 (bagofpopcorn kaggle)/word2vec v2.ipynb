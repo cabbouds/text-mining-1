{
 "cells": [
  {
   "cell_type": "markdown",
   "metadata": {},
   "source": [
    "created on 11/25/15 (last day at clarapath; just had dinner w momo and dodo)\n",
    "\n",
    "data source: https://www.kaggle.com/c/word2vec-nlp-tutorial/details/part-2-word-vectors"
   ]
  },
  {
   "cell_type": "code",
   "execution_count": 96,
   "metadata": {
    "collapsed": true
   },
   "outputs": [],
   "source": [
    "import pandas as pd\n",
    "import gensim\n",
    "import numpy as np\n",
    "from sklearn.manifold import TSNE # works better than the tsne package"
   ]
  },
  {
   "cell_type": "markdown",
   "metadata": {},
   "source": [
    "# step 1: data preparation"
   ]
  },
  {
   "cell_type": "code",
   "execution_count": 2,
   "metadata": {
    "collapsed": true
   },
   "outputs": [],
   "source": [
    "unlabeled_train = pd.read_csv( \"unlabeledTrainData.tsv\", header=0, delimiter=\"\\t\", quoting=3 )"
   ]
  },
  {
   "cell_type": "code",
   "execution_count": 3,
   "metadata": {
    "collapsed": false
   },
   "outputs": [
    {
     "data": {
      "text/plain": [
       "50000"
      ]
     },
     "execution_count": 3,
     "metadata": {},
     "output_type": "execute_result"
    }
   ],
   "source": [
    "# each review is split into a list of tokens; text is a list of lists\n",
    "\n",
    "text = unlabeled_train['review'].map(lambda x: x.lower().split())\n",
    "len(text)"
   ]
  },
  {
   "cell_type": "markdown",
   "metadata": {},
   "source": [
    "# step 2: train word2vec model"
   ]
  },
  {
   "cell_type": "code",
   "execution_count": 4,
   "metadata": {
    "collapsed": false
   },
   "outputs": [
    {
     "name": "stdout",
     "output_type": "stream",
     "text": [
      "training...\n",
      "execution time:  48.897685051\n"
     ]
    }
   ],
   "source": [
    "print \"training...\"\n",
    "\n",
    "# ~1 min to train\n",
    "# min count is minimum frequency of words in order to be relevant\n",
    "# size is the size of feature vector, usually between 50 and 300\n",
    "# workers = number of cores\n",
    "\n",
    "import time\n",
    "\n",
    "start = time.time() # Start time\n",
    "\n",
    "model = gensim.models.Word2Vec(text, size=100, window=5, min_count=10, workers=4)\n",
    "\n",
    "end = time.time()\n",
    "elapsed = end - start\n",
    "\n",
    "print 'execution time: ', elapsed"
   ]
  },
  {
   "cell_type": "code",
   "execution_count": 5,
   "metadata": {
    "collapsed": true
   },
   "outputs": [],
   "source": [
    "# persist trained word2vec model\n",
    "\n",
    "model.save('word2vec_bagofpopcorn_112515.pkl')"
   ]
  },
  {
   "cell_type": "code",
   "execution_count": 30,
   "metadata": {
    "collapsed": false
   },
   "outputs": [
    {
     "data": {
      "text/plain": [
       "[('woman', 0.8108645677566528),\n",
       " ('girl', 0.7665234804153442),\n",
       " ('man,', 0.7512650489807129),\n",
       " ('guy', 0.7348310947418213),\n",
       " ('soldier', 0.7087733745574951),\n",
       " ('boy', 0.6984727382659912),\n",
       " ('lady', 0.6977645754814148),\n",
       " ('lad', 0.6935749650001526),\n",
       " ('kid', 0.6687204241752625),\n",
       " ('person', 0.6583636999130249)]"
      ]
     },
     "execution_count": 30,
     "metadata": {},
     "output_type": "execute_result"
    }
   ],
   "source": [
    "# inspect word similarities\n",
    "\n",
    "model.most_similar('man')"
   ]
  },
  {
   "cell_type": "code",
   "execution_count": 44,
   "metadata": {
    "collapsed": false
   },
   "outputs": [
    {
     "data": {
      "text/plain": [
       "array([[ 0.69847274]], dtype=float32)"
      ]
     },
     "execution_count": 44,
     "metadata": {},
     "output_type": "execute_result"
    }
   ],
   "source": [
    "# similiarity is cosine - lets verify\n",
    "from sklearn.metrics.pairwise import cosine_similarity\n",
    "cosine_similarity(man, boy)"
   ]
  },
  {
   "cell_type": "code",
   "execution_count": 7,
   "metadata": {
    "collapsed": false
   },
   "outputs": [
    {
     "data": {
      "text/plain": [
       "43962"
      ]
     },
     "execution_count": 7,
     "metadata": {},
     "output_type": "execute_result"
    }
   ],
   "source": [
    "# size of model's vocabulary is 44k\n",
    "\n",
    "len(model.syn0)"
   ]
  },
  {
   "cell_type": "code",
   "execution_count": 8,
   "metadata": {
    "collapsed": false
   },
   "outputs": [
    {
     "data": {
      "text/plain": [
       "(100,)"
      ]
     },
     "execution_count": 8,
     "metadata": {},
     "output_type": "execute_result"
    }
   ],
   "source": [
    "# each word in the vocabulary has 100 dimensions\n",
    "\n",
    "model.syn0[0].shape"
   ]
  },
  {
   "cell_type": "markdown",
   "metadata": {},
   "source": [
    "### analogies!\n",
    "\n",
    "reference: http://arxiv.org/pdf/1301.3781v3.pdf"
   ]
  },
  {
   "cell_type": "code",
   "execution_count": 58,
   "metadata": {
    "collapsed": false
   },
   "outputs": [],
   "source": [
    "man = model['man']\n",
    "boy = model['boy']\n",
    "girl = model['girl']"
   ]
  },
  {
   "cell_type": "code",
   "execution_count": 59,
   "metadata": {
    "collapsed": true
   },
   "outputs": [],
   "source": [
    "unknown = man - boy + girl"
   ]
  },
  {
   "cell_type": "code",
   "execution_count": 93,
   "metadata": {
    "collapsed": true
   },
   "outputs": [],
   "source": [
    "woman = model['woman']"
   ]
  },
  {
   "cell_type": "code",
   "execution_count": 94,
   "metadata": {
    "collapsed": false
   },
   "outputs": [
    {
     "data": {
      "text/plain": [
       "array([[ 0.8395465]], dtype=float32)"
      ]
     },
     "execution_count": 94,
     "metadata": {},
     "output_type": "execute_result"
    }
   ],
   "source": [
    "cosine_similarity(unknown, woman)"
   ]
  },
  {
   "cell_type": "markdown",
   "metadata": {},
   "source": [
    "# step 3: generate word representations"
   ]
  },
  {
   "cell_type": "code",
   "execution_count": 9,
   "metadata": {
    "collapsed": true
   },
   "outputs": [],
   "source": [
    "words_class0 = ['plane', 'ship', 'boat', 'bus', 'truck', 'bridge', 'car', 'helicopter',\n",
    "               'spaceship', 'train', 'flight', 'ferry']"
   ]
  },
  {
   "cell_type": "code",
   "execution_count": 10,
   "metadata": {
    "collapsed": true
   },
   "outputs": [],
   "source": [
    "words_class1 = ['aliens', 'robots', 'zombies', 'spiders', 'vampires', 'mummies', 'gangsters',\n",
    "                'bees', 'monsters', 'wasps', 'creatures', 'predators', 'animals', 'poachers']"
   ]
  },
  {
   "cell_type": "code",
   "execution_count": 11,
   "metadata": {
    "collapsed": true
   },
   "outputs": [],
   "source": [
    "words = words_class0 + words_class1"
   ]
  },
  {
   "cell_type": "code",
   "execution_count": 12,
   "metadata": {
    "collapsed": true
   },
   "outputs": [],
   "source": [
    "y = [0] * len(words_class0) + [1] * len(words_class1)"
   ]
  },
  {
   "cell_type": "code",
   "execution_count": 13,
   "metadata": {
    "collapsed": false
   },
   "outputs": [],
   "source": [
    "# create a dataframe where rows = words; columns = concepts\n",
    "\n",
    "x_df = []\n",
    "\n",
    "for word in words:\n",
    "    x_df.append(model[word])\n",
    "    \n",
    "x_df = pd.DataFrame(np.vstack(x_df))"
   ]
  },
  {
   "cell_type": "markdown",
   "metadata": {},
   "source": [
    "# step 4: visualize word representations"
   ]
  },
  {
   "cell_type": "code",
   "execution_count": 14,
   "metadata": {
    "collapsed": false
   },
   "outputs": [
    {
     "name": "stdout",
     "output_type": "stream",
     "text": [
      "[t-SNE] Computing pairwise distances...\n",
      "[t-SNE] Computed conditional probabilities for sample 26 / 26\n",
      "[t-SNE] Mean sigma: 1125899906842624.000000\n",
      "[t-SNE] Error after 67 iterations with early exaggeration: 8.014977\n",
      "[t-SNE] Error after 279 iterations: 0.492153\n"
     ]
    }
   ],
   "source": [
    "x = TSNE(n_components=2, perplexity=40, learning_rate=100, verbose=1).fit_transform(x_df)"
   ]
  },
  {
   "cell_type": "code",
   "execution_count": 15,
   "metadata": {
    "collapsed": false
   },
   "outputs": [
    {
     "data": {
      "text/plain": [
       "<matplotlib.collections.PathCollection at 0x13670cc90>"
      ]
     },
     "execution_count": 15,
     "metadata": {},
     "output_type": "execute_result"
    },
    {
     "name": "stderr",
     "output_type": "stream",
     "text": [
      "/Users/vincenttang/anaconda/lib/python2.7/site-packages/matplotlib/collections.py:590: FutureWarning: elementwise comparison failed; returning scalar instead, but in the future will perform elementwise comparison\n",
      "  if self._edgecolors == str('face'):\n"
     ]
    },
    {
     "data": {
      "image/png": "[encoded data removed]",
      "text/plain": [
       "<matplotlib.figure.Figure at 0x137ac3590>"
      ]
     },
     "metadata": {},
     "output_type": "display_data"
    }
   ],
   "source": [
    "import matplotlib.pyplot as plt\n",
    "% matplotlib inline\n",
    "\n",
    "split_pt = len(words_class0) # split points in order to better visualize data\n",
    "\n",
    "plt.scatter(x[:split_pt, 0], x[:split_pt, 1], c = 'r', marker = 's')\n",
    "plt.scatter(x[split_pt:, 0], x[split_pt:, 1], c = 'b', marker = 'v')"
   ]
  },
  {
   "cell_type": "markdown",
   "metadata": {},
   "source": [
    "# step 5: generate clusters\n",
    "\n",
    "lets create clusters of semantically related words that share the same concept.\n",
    "\n",
    "this is effectively LDA analysis. in LDA, you return a bunch of topics, each represented by a high dimensional vector of words. in word2vec, you return a bunch of words, each represented by a high dimensional vector of topics. so, LDA is the same as word2vec!\n",
    "\n",
    "by clustering into semantically related clusters, you are transforming word2vec to LDA."
   ]
  },
  {
   "cell_type": "code",
   "execution_count": 16,
   "metadata": {
    "collapsed": true
   },
   "outputs": [],
   "source": [
    "from sklearn.cluster import KMeans"
   ]
  },
  {
   "cell_type": "code",
   "execution_count": 17,
   "metadata": {
    "collapsed": true
   },
   "outputs": [],
   "source": [
    "num_clusters = 5000\n",
    "\n",
    "kmeans = KMeans(n_clusters = num_clusters)"
   ]
  },
  {
   "cell_type": "code",
   "execution_count": 18,
   "metadata": {
    "collapsed": true
   },
   "outputs": [],
   "source": [
    "# fit kmeans on 5k out of 44k\n",
    "\n",
    "training_data = model.syn0[:5000]"
   ]
  },
  {
   "cell_type": "code",
   "execution_count": 19,
   "metadata": {
    "collapsed": false
   },
   "outputs": [
    {
     "data": {
      "text/plain": [
       "KMeans(copy_x=True, init='k-means++', max_iter=300, n_clusters=5000,\n",
       "    n_init=10, n_jobs=1, precompute_distances='auto', random_state=None,\n",
       "    tol=0.0001, verbose=0)"
      ]
     },
     "execution_count": 19,
     "metadata": {},
     "output_type": "execute_result"
    }
   ],
   "source": [
    "kmeans.fit(training_data)"
   ]
  },
  {
   "cell_type": "code",
   "execution_count": 20,
   "metadata": {
    "collapsed": true
   },
   "outputs": [],
   "source": [
    "# instantiate dict where k = centroid label and v = list of similar words\n",
    "\n",
    "clusters_dict = {}\n",
    "\n",
    "for i in range(0, num_clusters):\n",
    "    clusters_dict[i] = []"
   ]
  },
  {
   "cell_type": "code",
   "execution_count": 21,
   "metadata": {
    "collapsed": false
   },
   "outputs": [],
   "source": [
    "# for each word in the vocabulary\n",
    "for i, w in enumerate(model.syn0):\n",
    "    \n",
    "    # assign word vector to a cluster\n",
    "    k = kmeans.predict(w)[0]\n",
    "    \n",
    "    # find corresponding word to the word vector\n",
    "    word = model.index2word[i] # index2word is a gensim method\n",
    "    \n",
    "    # then add corresponding word to the dictionary where k = centroid label and v = list of words\n",
    "    clusters_dict[k].append(word)"
   ]
  },
  {
   "cell_type": "code",
   "execution_count": 29,
   "metadata": {
    "collapsed": false
   },
   "outputs": [
    {
     "name": "stdout",
     "output_type": "stream",
     "text": [
      "50 ['u']\n",
      "51 ['twenty']\n",
      "52 ['7']\n",
      "53 ['disaster']\n",
      "54 ['have.', '\"how', 'dismiss', 'imagine.']\n",
      "55 ['spending']\n",
      "56 ['instance,']\n",
      "57 ['describes', 'relates', 'dominates']\n",
      "58 ['teeth', 'brains', 'ears', 'jaw', 'scratching', 'mates', 'toes']\n",
      "59 ['budget,']\n"
     ]
    }
   ],
   "source": [
    "# inspect clusters of concepts!\n",
    "\n",
    "for idx in range(50, 60):\n",
    "    print idx, clusters_dict[idx]"
   ]
  },
  {
   "cell_type": "code",
   "execution_count": null,
   "metadata": {
    "collapsed": true
   },
   "outputs": [],
   "source": []
  }
 ],
 "metadata": {
  "kernelspec": {
   "display_name": "Python 2",
   "language": "python",
   "name": "python2"
  },
  "language_info": {
   "codemirror_mode": {
    "name": "ipython",
    "version": 2
   },
   "file_extension": ".py",
   "mimetype": "text/x-python",
   "name": "python",
   "nbconvert_exporter": "python",
   "pygments_lexer": "ipython2",
   "version": "2.7.10"
  }
 },
 "nbformat": 4,
 "nbformat_minor": 0
}
